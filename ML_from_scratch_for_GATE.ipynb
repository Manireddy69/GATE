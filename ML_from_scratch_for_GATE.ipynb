{
  "nbformat": 4,
  "nbformat_minor": 0,
  "metadata": {
    "colab": {
      "provenance": [],
      "authorship_tag": "ABX9TyP2e/5DifKZswx01+UmsQn+",
      "include_colab_link": true
    },
    "kernelspec": {
      "name": "python3",
      "display_name": "Python 3"
    },
    "language_info": {
      "name": "python"
    },
    "vp": {
      "vp_note_display": false,
      "vp_note_width": 0,
      "vp_section_display": false
    }
  },
  "cells": [
    {
      "cell_type": "markdown",
      "metadata": {
        "id": "view-in-github",
        "colab_type": "text"
      },
      "source": [
        "<a href=\"https://colab.research.google.com/github/Manireddy69/GATE/blob/main/ML_from_scratch_for_GATE.ipynb\" target=\"_parent\"><img src=\"https://colab.research.google.com/assets/colab-badge.svg\" alt=\"Open In Colab\"/></a>"
      ]
    },
    {
      "cell_type": "code",
      "execution_count": 2,
      "metadata": {
        "id": "SBCovoQr-Kup"
      },
      "outputs": [],
      "source": [
        "import numpy as np\n",
        "import pandas as pd\n",
        "import matplotlib.pyplot as plt"
      ]
    },
    {
      "cell_type": "code",
      "source": [],
      "metadata": {
        "id": "2wI5vNyuCVaA"
      },
      "execution_count": null,
      "outputs": []
    },
    {
      "cell_type": "code",
      "source": [
        "x = np.array([1,2,3,4]).reshape(-1,1)\n",
        "y = np.array([4,3,2,1])\n",
        "from sklearn.linear_model import LinearRegression\n",
        "from sklearn.metrics import mean_squared_error\n",
        "model = LinearRegression()\n",
        "model.fit(x,y)\n",
        "# y_prediction = model.predict(x)\n",
        "# mse = mean_squared_error(y,y_prediction)\n",
        "# mse\n",
        "model.coef_"
      ],
      "metadata": {
        "id": "rB6Bevak-WAd",
        "colab": {
          "base_uri": "https://localhost:8080/"
        },
        "outputId": "4a7276cd-baca-4df8-9937-f3fa79c9c7fd"
      },
      "execution_count": 60,
      "outputs": [
        {
          "output_type": "execute_result",
          "data": {
            "text/plain": [
              "array([-1.])"
            ]
          },
          "metadata": {},
          "execution_count": 60
        }
      ]
    },
    {
      "cell_type": "code",
      "source": [
        "x1 = np.array([-3.5,2.1,-4.3,1.7,0.1]).reshape(-1,1)\n",
        "x2 = np.array([1.9, -3.3,5.1,2.2,-0.1]).reshape(-1,1)\n",
        "y = np.array([0.21,0.01,0.97,0.98,0.45]).reshape(-1,1)\n",
        "X = np.hstack([x1,x2])\n",
        "from sklearn.linear_model import LinearRegression\n",
        "model = LinearRegression(fit_intercept= False)\n",
        "model.fit(X,y)\n",
        "print(model.coef_)"
      ],
      "metadata": {
        "colab": {
          "base_uri": "https://localhost:8080/"
        },
        "id": "W6Hbh6LFCIVW",
        "outputId": "6c39500e-9e45-4d51-efe8-40f8929f7908"
      },
      "execution_count": 62,
      "outputs": [
        {
          "output_type": "stream",
          "name": "stdout",
          "text": [
            "[[0.12844232 0.25365734]]\n"
          ]
        }
      ]
    },
    {
      "cell_type": "code",
      "source": [],
      "metadata": {
        "id": "2wTz82XRZQ1-"
      },
      "execution_count": null,
      "outputs": []
    },
    {
      "cell_type": "code",
      "source": [
        "y_pred = model.predict(X)\n",
        "from sklearn.metrics import mean_squared_error\n",
        "MSE_in =  mean_squared_error(y, y_pred)\n",
        "print(\"MSE in inbuilt function:\", MSE_in)\n",
        "\n",
        "#manuel way\n",
        "MSE = np.sum((y- y_pred)**2) / len(x)\n",
        "print(\"MSE in manual way:\", MSE)"
      ],
      "metadata": {
        "colab": {
          "base_uri": "https://localhost:8080/"
        },
        "id": "rCCJaHMtWye4",
        "outputId": "65321219-c148-490f-d87f-3d84793f237d"
      },
      "execution_count": 63,
      "outputs": [
        {
          "output_type": "stream",
          "name": "stdout",
          "text": [
            "MSE in inbuilt function: 0.13450476723079818\n",
            "MSE in manual way: 0.16813095903849773\n"
          ]
        }
      ]
    },
    {
      "cell_type": "code",
      "source": [
        "from sklearn.linear_model import LinearRegression\n",
        "model = LinearRegression(fit_intercept= False)\n",
        "model.fit(X,y)\n",
        "print(model.coef_)"
      ],
      "metadata": {
        "colab": {
          "base_uri": "https://localhost:8080/"
        },
        "id": "5xR88IeoDVE2",
        "outputId": "b6dbd2a7-4ea7-45de-9052-71ed7785faac"
      },
      "execution_count": 27,
      "outputs": [
        {
          "output_type": "stream",
          "name": "stdout",
          "text": [
            "[[0.12844232 0.25365734]]\n"
          ]
        }
      ]
    },
    {
      "cell_type": "code",
      "source": [],
      "metadata": {
        "id": "R_Y-3bHHU5fp"
      },
      "execution_count": null,
      "outputs": []
    },
    {
      "cell_type": "code",
      "source": [],
      "metadata": {
        "id": "GqtLXmZ8w5Ui"
      },
      "execution_count": null,
      "outputs": []
    }
  ]
}