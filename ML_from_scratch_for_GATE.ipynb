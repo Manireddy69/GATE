{
  "nbformat": 4,
  "nbformat_minor": 0,
  "metadata": {
    "colab": {
      "provenance": [],
      "authorship_tag": "ABX9TyMv8as0Jh8iPPcwu89C8SmF",
      "include_colab_link": true
    },
    "kernelspec": {
      "name": "python3",
      "display_name": "Python 3"
    },
    "language_info": {
      "name": "python"
    }
  },
  "cells": [
    {
      "cell_type": "markdown",
      "metadata": {
        "id": "view-in-github",
        "colab_type": "text"
      },
      "source": [
        "<a href=\"https://colab.research.google.com/github/Manireddy69/GATE/blob/main/ML_from_scratch_for_GATE.ipynb\" target=\"_parent\"><img src=\"https://colab.research.google.com/assets/colab-badge.svg\" alt=\"Open In Colab\"/></a>"
      ]
    },
    {
      "cell_type": "code",
      "execution_count": 13,
      "metadata": {
        "id": "SBCovoQr-Kup"
      },
      "outputs": [],
      "source": [
        "import numpy as np\n",
        "import pandas as pd\n",
        "import matplotlib.pyplot as plt\n"
      ]
    },
    {
      "cell_type": "code",
      "source": [
        "x = np.array([1,2,3,4], dtype = float)\n",
        "y = np.array([2,3,4,5], dtype = float)\n",
        "x_mean = np.mean(x)\n",
        "y_mean = np.mean(y)\n",
        "xy_mean = np.mean(x *y)\n",
        "xq_mean = np.mean(x**2)\n"
      ],
      "metadata": {
        "id": "rB6Bevak-WAd"
      },
      "execution_count": 22,
      "outputs": []
    },
    {
      "cell_type": "code",
      "source": [
        "b = x_mean - y_mean * x_mean/ xq_mean- x_mean **2\n",
        "a = y_mean -b * x_mean\n",
        "print(\"a = \", a, \"b = \", b)"
      ],
      "metadata": {
        "colab": {
          "base_uri": "https://localhost:8080/"
        },
        "id": "3vTeaO6AMSta",
        "outputId": "f8ab7d63-891b-447a-f3af-3c8a8b3b7972"
      },
      "execution_count": 27,
      "outputs": [
        {
          "output_type": "stream",
          "name": "stdout",
          "text": [
            "a =  15.791666666666668 b =  -4.916666666666667\n"
          ]
        }
      ]
    },
    {
      "cell_type": "code",
      "source": [],
      "metadata": {
        "id": "12mJejJPQmMQ"
      },
      "execution_count": null,
      "outputs": []
    }
  ]
}